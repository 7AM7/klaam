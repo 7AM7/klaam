{
  "nbformat": 4,
  "nbformat_minor": 0,
  "metadata": {
    "colab": {
      "name": "Demo.ipynb",
      "provenance": [],
      "collapsed_sections": []
    },
    "kernelspec": {
      "name": "python3",
      "display_name": "Python 3",
      "language": "python"
    },
    "accelerator": "GPU"
  },
  "cells": [
    {
      "cell_type": "markdown",
      "metadata": {
        "id": "2a4ADJpsCqDl"
      },
      "source": [
        "### Clone the library "
      ]
    },
    {
      "cell_type": "code",
      "metadata": {
        "id": "cZtc6-UWAoXw"
      },
      "source": [
        "!git clone https://github.com/ARBML/klaam\n",
        "%cd klaam"
      ],
      "execution_count": null,
      "outputs": []
    },
    {
      "cell_type": "markdown",
      "metadata": {
        "id": "3VVt6RsLCtze"
      },
      "source": [
        "### Install dependencies "
      ]
    },
    {
      "cell_type": "code",
      "metadata": {
        "id": "FZQ3-QNw0c7C"
      },
      "source": [
        "%%capture\n",
        "!pip install -r requirements.txt"
      ],
      "execution_count": null,
      "outputs": []
    },
    {
      "cell_type": "markdown",
      "metadata": {
        "id": "mWBDMxTqCzH0"
      },
      "source": [
        "### Load sample audio file"
      ]
    },
    {
      "cell_type": "code",
      "metadata": {
        "id": "FGisa9H8Ceh7"
      },
      "source": [
        "from IPython.display import Audio \n",
        "Audio('samples/demo.wav', autoplay=False)"
      ],
      "execution_count": null,
      "outputs": []
    },
    {
      "cell_type": "markdown",
      "metadata": {
        "id": "pAKxQ2fNC1fG"
      },
      "source": [
        "### Try out classification model"
      ]
    },
    {
      "cell_type": "code",
      "metadata": {
        "id": "4nJcXcny0qrV"
      },
      "source": [
        "from klaam import SpeechClassification\n",
        "model = SpeechClassification()\n",
        "model.classify('samples/demo.wav')"
      ],
      "execution_count": null,
      "outputs": []
    },
    {
      "cell_type": "markdown",
      "metadata": {
        "id": "Q6L7o5TpC4Nd"
      },
      "source": [
        "### Try out recongition model"
      ]
    },
    {
      "cell_type": "code",
      "metadata": {
        "id": "OIGRS-PGCeh8"
      },
      "source": [
        " from klaam import SpeechRecognition\n",
        " model = SpeechRecognition()\n",
        " model.transcribe('samples/demo.wav')"
      ],
      "execution_count": null,
      "outputs": []
    }
  ]
}