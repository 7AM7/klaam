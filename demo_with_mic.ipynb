{
  "nbformat": 4,
  "nbformat_minor": 0,
  "metadata": {
    "colab": {
      "name": "Inference XLSR-Wav2Vec2 on Egyptian Dialects from hub.ipynb",
      "provenance": [],
      "collapsed_sections": []
    },
    "kernelspec": {
      "name": "python3",
      "display_name": "Python 3"
    },
    "accelerator": "GPU"
  },
  "cells": [
    {
      "cell_type": "code",
      "metadata": {
        "id": "F0QmXY-c-8_C"
      },
      "source": [
        "!git clone https://github.com/ARBML/klaam\n",
        "%cd klaam"
      ],
      "execution_count": null,
      "outputs": []
    },
    {
      "cell_type": "code",
      "execution_count": null,
      "metadata": {},
      "outputs": [],
      "source": [
        "%%capture\n",
        "!pip install -r requirements.txt"
      ]
    },
    {
      "cell_type": "code",
      "execution_count": null,
      "metadata": {},
      "outputs": [],
      "source": [
        " from klaam import SpeechRecognition\n",
        " model = SpeechRecognition()"
      ]
    },
    {
      "cell_type": "code",
      "metadata": {
        "id": "Q7cXZ0CN--SF"
      },
      "source": [
        "from audio_utils import get_audio\n",
        "get_audio()"
      ],
      "execution_count": null,
      "outputs": []
    },
    {
      "cell_type": "code",
      "metadata": {
        "id": "eR_aZTj0_CdH"
      },
      "source": [
        " model.transcribe('./demo.wav')"
      ],
      "execution_count": null,
      "outputs": []
    },
    {
      "cell_type": "code",
      "execution_count": null,
      "metadata": {},
      "outputs": [],
      "source": [
        " from klaam import SpeechClassification\n",
        " model = SpeechClassification()"
      ]
    },
    {
      "cell_type": "code",
      "execution_count": null,
      "metadata": {},
      "outputs": [],
      "source": [
        " model.classify('./demo.wav')"
      ]
    }
  ]
}